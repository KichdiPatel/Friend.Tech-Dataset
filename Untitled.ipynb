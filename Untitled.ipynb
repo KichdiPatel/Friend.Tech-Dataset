{
 "cells": [
  {
   "cell_type": "code",
   "execution_count": 7,
   "id": "12f07ad8",
   "metadata": {},
   "outputs": [
    {
     "name": "stdout",
     "output_type": "stream",
     "text": [
      "Collecting tweepy\n",
      "  Using cached tweepy-4.14.0-py3-none-any.whl (98 kB)\n",
      "Collecting oauthlib<4,>=3.2.0 (from tweepy)\n",
      "  Using cached oauthlib-3.2.2-py3-none-any.whl (151 kB)\n",
      "Requirement already satisfied: requests<3,>=2.27.0 in /Users/ayanpatel/anaconda3/lib/python3.11/site-packages (from tweepy) (2.31.0)\n",
      "Collecting requests-oauthlib<2,>=1.2.0 (from tweepy)\n",
      "  Using cached requests_oauthlib-1.3.1-py2.py3-none-any.whl (23 kB)\n",
      "Requirement already satisfied: charset-normalizer<4,>=2 in /Users/ayanpatel/anaconda3/lib/python3.11/site-packages (from requests<3,>=2.27.0->tweepy) (2.0.4)\n",
      "Requirement already satisfied: idna<4,>=2.5 in /Users/ayanpatel/anaconda3/lib/python3.11/site-packages (from requests<3,>=2.27.0->tweepy) (3.4)\n",
      "Requirement already satisfied: urllib3<3,>=1.21.1 in /Users/ayanpatel/anaconda3/lib/python3.11/site-packages (from requests<3,>=2.27.0->tweepy) (1.26.16)\n",
      "Requirement already satisfied: certifi>=2017.4.17 in /Users/ayanpatel/anaconda3/lib/python3.11/site-packages (from requests<3,>=2.27.0->tweepy) (2023.7.22)\n",
      "Installing collected packages: oauthlib, requests-oauthlib, tweepy\n",
      "Successfully installed oauthlib-3.2.2 requests-oauthlib-1.3.1 tweepy-4.14.0\n"
     ]
    }
   ],
   "source": [
    "!pip install tweepy"
   ]
  },
  {
   "cell_type": "code",
   "execution_count": 32,
   "id": "4d89e109",
   "metadata": {
    "scrolled": true
   },
   "outputs": [
    {
     "name": "stdout",
     "output_type": "stream",
     "text": [
      "Collecting web3\n",
      "  Obtaining dependency information for web3 from https://files.pythonhosted.org/packages/c8/a6/1f40fb776cbd206ca71022235c3189ca4e8b6621d5e1c3aae7cc933428db/web3-6.10.0-py3-none-any.whl.metadata\n",
      "  Downloading web3-6.10.0-py3-none-any.whl.metadata (4.9 kB)\n",
      "Requirement already satisfied: aiohttp>=3.7.4.post0 in /Users/ayanpatel/anaconda3/lib/python3.11/site-packages (from web3) (3.8.3)\n",
      "Collecting eth-abi>=4.0.0 (from web3)\n",
      "  Obtaining dependency information for eth-abi>=4.0.0 from https://files.pythonhosted.org/packages/1f/2f/5c6903db2aec156320a6a11f4467c054b2e7007cc8378b1228041d2b49b1/eth_abi-4.2.1-py3-none-any.whl.metadata\n",
      "  Downloading eth_abi-4.2.1-py3-none-any.whl.metadata (5.2 kB)\n",
      "Collecting eth-account>=0.8.0 (from web3)\n",
      "  Obtaining dependency information for eth-account>=0.8.0 from https://files.pythonhosted.org/packages/7f/90/592421a6aba17056e46d444ad0822edf11cb4f4561d034dddb85f48622ae/eth_account-0.9.0-py3-none-any.whl.metadata\n",
      "  Downloading eth_account-0.9.0-py3-none-any.whl.metadata (5.5 kB)\n",
      "Collecting eth-hash[pycryptodome]>=0.5.1 (from web3)\n",
      "  Obtaining dependency information for eth-hash[pycryptodome]>=0.5.1 from https://files.pythonhosted.org/packages/eb/cd/afecfb3d0d0096338fee1cf7d57678eab49a69d5ff775e2052f81261efd0/eth_hash-0.5.2-py3-none-any.whl.metadata\n",
      "  Downloading eth_hash-0.5.2-py3-none-any.whl.metadata (5.8 kB)\n",
      "Collecting eth-typing>=3.0.0 (from web3)\n",
      "  Obtaining dependency information for eth-typing>=3.0.0 from https://files.pythonhosted.org/packages/7a/cc/a2f5b227ded743db13478228904aa8c5e1686228f64f378592d4df4c8027/eth_typing-3.5.0-py3-none-any.whl.metadata\n",
      "  Downloading eth_typing-3.5.0-py3-none-any.whl.metadata (4.7 kB)\n",
      "Collecting eth-utils>=2.1.0 (from web3)\n",
      "  Obtaining dependency information for eth-utils>=2.1.0 from https://files.pythonhosted.org/packages/8c/92/8859225f4d8ad1c5e715717084fcbb30a54b1f3474214306d21b63f76645/eth_utils-2.2.1-py3-none-any.whl.metadata\n",
      "  Downloading eth_utils-2.2.1-py3-none-any.whl.metadata (5.1 kB)\n",
      "Collecting hexbytes>=0.1.0 (from web3)\n",
      "  Obtaining dependency information for hexbytes>=0.1.0 from https://files.pythonhosted.org/packages/0b/9e/fdfe374c28d448a58563e7e43f569f8cf8cf600db092efac2e8ac2f86782/hexbytes-0.3.1-py3-none-any.whl.metadata\n",
      "  Downloading hexbytes-0.3.1-py3-none-any.whl.metadata (5.5 kB)\n",
      "Requirement already satisfied: jsonschema>=4.0.0 in /Users/ayanpatel/anaconda3/lib/python3.11/site-packages (from web3) (4.17.3)\n",
      "Collecting lru-dict>=1.1.6 (from web3)\n",
      "  Downloading lru-dict-1.2.0.tar.gz (10 kB)\n",
      "  Preparing metadata (setup.py) ... \u001b[?25ldone\n",
      "\u001b[?25hCollecting protobuf>=4.21.6 (from web3)\n",
      "  Obtaining dependency information for protobuf>=4.21.6 from https://files.pythonhosted.org/packages/fe/f3/957db80e5b9f7fd7df97e5554fdc57919dfad24e89291223fd04a0e3c84f/protobuf-4.24.3-cp37-abi3-macosx_10_9_universal2.whl.metadata\n",
      "  Downloading protobuf-4.24.3-cp37-abi3-macosx_10_9_universal2.whl.metadata (540 bytes)\n",
      "Requirement already satisfied: requests>=2.16.0 in /Users/ayanpatel/anaconda3/lib/python3.11/site-packages (from web3) (2.31.0)\n",
      "Requirement already satisfied: typing-extensions>=4.0.1 in /Users/ayanpatel/anaconda3/lib/python3.11/site-packages (from web3) (4.7.1)\n",
      "Collecting websockets>=10.0.0 (from web3)\n",
      "  Downloading websockets-11.0.3-cp311-cp311-macosx_11_0_arm64.whl (121 kB)\n",
      "\u001b[2K     \u001b[90m━━━━━━━━━━━━━━━━━━━━━━━━━━━━━━━━━━━━━━━\u001b[0m \u001b[32m121.0/121.0 kB\u001b[0m \u001b[31m2.6 MB/s\u001b[0m eta \u001b[36m0:00:00\u001b[0ma \u001b[36m0:00:01\u001b[0m\n",
      "\u001b[?25hCollecting pyunormalize>=15.0.0 (from web3)\n",
      "  Downloading pyunormalize-15.0.0.tar.gz (515 kB)\n",
      "\u001b[2K     \u001b[90m━━━━━━━━━━━━━━━━━━━━━━━━━━━━━━━━━━━━━━━\u001b[0m \u001b[32m515.4/515.4 kB\u001b[0m \u001b[31m8.0 MB/s\u001b[0m eta \u001b[36m0:00:00\u001b[0ma \u001b[36m0:00:01\u001b[0m\n",
      "\u001b[?25h  Preparing metadata (setup.py) ... \u001b[?25ldone\n",
      "\u001b[?25hRequirement already satisfied: attrs>=17.3.0 in /Users/ayanpatel/anaconda3/lib/python3.11/site-packages (from aiohttp>=3.7.4.post0->web3) (22.1.0)\n",
      "Requirement already satisfied: charset-normalizer<3.0,>=2.0 in /Users/ayanpatel/anaconda3/lib/python3.11/site-packages (from aiohttp>=3.7.4.post0->web3) (2.0.4)\n",
      "Requirement already satisfied: multidict<7.0,>=4.5 in /Users/ayanpatel/anaconda3/lib/python3.11/site-packages (from aiohttp>=3.7.4.post0->web3) (6.0.2)\n",
      "Requirement already satisfied: async-timeout<5.0,>=4.0.0a3 in /Users/ayanpatel/anaconda3/lib/python3.11/site-packages (from aiohttp>=3.7.4.post0->web3) (4.0.2)\n",
      "Requirement already satisfied: yarl<2.0,>=1.0 in /Users/ayanpatel/anaconda3/lib/python3.11/site-packages (from aiohttp>=3.7.4.post0->web3) (1.8.1)\n",
      "Requirement already satisfied: frozenlist>=1.1.1 in /Users/ayanpatel/anaconda3/lib/python3.11/site-packages (from aiohttp>=3.7.4.post0->web3) (1.3.3)\n",
      "Requirement already satisfied: aiosignal>=1.1.2 in /Users/ayanpatel/anaconda3/lib/python3.11/site-packages (from aiohttp>=3.7.4.post0->web3) (1.2.0)\n",
      "Collecting parsimonious<0.10.0,>=0.9.0 (from eth-abi>=4.0.0->web3)\n",
      "  Downloading parsimonious-0.9.0.tar.gz (48 kB)\n",
      "\u001b[2K     \u001b[90m━━━━━━━━━━━━━━━━━━━━━━━━━━━━━━━━━━━━━━━━\u001b[0m \u001b[32m48.7/48.7 kB\u001b[0m \u001b[31m7.6 MB/s\u001b[0m eta \u001b[36m0:00:00\u001b[0m\n",
      "\u001b[?25h  Preparing metadata (setup.py) ... \u001b[?25ldone\n",
      "\u001b[?25hCollecting bitarray>=2.4.0 (from eth-account>=0.8.0->web3)\n",
      "  Obtaining dependency information for bitarray>=2.4.0 from https://files.pythonhosted.org/packages/a6/12/e2464007419d28bf77ff6c18c881edc15d4b2ed47ca2a8d672c74bb7e2bc/bitarray-2.8.1-cp311-cp311-macosx_11_0_arm64.whl.metadata\n",
      "  Downloading bitarray-2.8.1-cp311-cp311-macosx_11_0_arm64.whl.metadata (32 kB)\n",
      "Collecting eth-keyfile>=0.6.0 (from eth-account>=0.8.0->web3)\n",
      "  Downloading eth_keyfile-0.6.1-py3-none-any.whl (6.5 kB)\n",
      "Collecting eth-keys>=0.4.0 (from eth-account>=0.8.0->web3)\n",
      "  Downloading eth_keys-0.4.0-py3-none-any.whl (21 kB)\n",
      "Collecting eth-rlp>=0.3.0 (from eth-account>=0.8.0->web3)\n",
      "  Downloading eth_rlp-0.3.0-py3-none-any.whl (5.0 kB)\n",
      "Collecting rlp>=1.0.0 (from eth-account>=0.8.0->web3)\n",
      "  Downloading rlp-3.0.0-py2.py3-none-any.whl (20 kB)\n",
      "Collecting pycryptodome<4,>=3.6.6 (from eth-hash[pycryptodome]>=0.5.1->web3)\n",
      "  Obtaining dependency information for pycryptodome<4,>=3.6.6 from https://files.pythonhosted.org/packages/d6/df/295e56dca0b4834665626326359c5a1f3092287be56db4b316926df7ad0c/pycryptodome-3.19.0-cp35-abi3-macosx_10_9_universal2.whl.metadata\n",
      "  Downloading pycryptodome-3.19.0-cp35-abi3-macosx_10_9_universal2.whl.metadata (3.4 kB)\n",
      "Requirement already satisfied: cytoolz>=0.10.1 in /Users/ayanpatel/anaconda3/lib/python3.11/site-packages (from eth-utils>=2.1.0->web3) (0.12.0)\n",
      "Requirement already satisfied: pyrsistent!=0.17.0,!=0.17.1,!=0.17.2,>=0.14.0 in /Users/ayanpatel/anaconda3/lib/python3.11/site-packages (from jsonschema>=4.0.0->web3) (0.18.0)\n",
      "Requirement already satisfied: idna<4,>=2.5 in /Users/ayanpatel/anaconda3/lib/python3.11/site-packages (from requests>=2.16.0->web3) (3.4)\n",
      "Requirement already satisfied: urllib3<3,>=1.21.1 in /Users/ayanpatel/anaconda3/lib/python3.11/site-packages (from requests>=2.16.0->web3) (1.26.16)\n",
      "Requirement already satisfied: certifi>=2017.4.17 in /Users/ayanpatel/anaconda3/lib/python3.11/site-packages (from requests>=2.16.0->web3) (2023.7.22)\n",
      "Requirement already satisfied: toolz>=0.8.0 in /Users/ayanpatel/anaconda3/lib/python3.11/site-packages (from cytoolz>=0.10.1->eth-utils>=2.1.0->web3) (0.12.0)\n",
      "Requirement already satisfied: regex>=2022.3.15 in /Users/ayanpatel/anaconda3/lib/python3.11/site-packages (from parsimonious<0.10.0,>=0.9.0->eth-abi>=4.0.0->web3) (2022.7.9)\n",
      "Downloading web3-6.10.0-py3-none-any.whl (1.6 MB)\n",
      "\u001b[2K   \u001b[90m━━━━━━━━━━━━━━━━━━━━━━━━━━━━━━━━━━━━━━━━\u001b[0m \u001b[32m1.6/1.6 MB\u001b[0m \u001b[31m5.9 MB/s\u001b[0m eta \u001b[36m0:00:00\u001b[0m00:01\u001b[0m00:01\u001b[0mm\n",
      "\u001b[?25hDownloading eth_abi-4.2.1-py3-none-any.whl (28 kB)\n",
      "Downloading eth_account-0.9.0-py3-none-any.whl (101 kB)\n",
      "\u001b[2K   \u001b[90m━━━━━━━━━━━━━━━━━━━━━━━━━━━━━━━━━━━━━━━━\u001b[0m \u001b[32m102.0/102.0 kB\u001b[0m \u001b[31m3.3 MB/s\u001b[0m eta \u001b[36m0:00:00\u001b[0m\n",
      "\u001b[?25hDownloading eth_typing-3.5.0-py3-none-any.whl (13 kB)\n",
      "Downloading eth_utils-2.2.1-py3-none-any.whl (23 kB)\n",
      "Downloading hexbytes-0.3.1-py3-none-any.whl (5.9 kB)\n",
      "Downloading protobuf-4.24.3-cp37-abi3-macosx_10_9_universal2.whl (409 kB)\n",
      "\u001b[2K   \u001b[90m━━━━━━━━━━━━━━━━━━━━━━━━━━━━━━━━━━━━━━━━\u001b[0m \u001b[32m409.4/409.4 kB\u001b[0m \u001b[31m8.7 MB/s\u001b[0m eta \u001b[36m0:00:00\u001b[0m:00:01\u001b[0m\n",
      "\u001b[?25hDownloading bitarray-2.8.1-cp311-cp311-macosx_11_0_arm64.whl (121 kB)\n",
      "\u001b[2K   \u001b[90m━━━━━━━━━━━━━━━━━━━━━━━━━━━━━━━━━━━━━━━━\u001b[0m \u001b[32m121.7/121.7 kB\u001b[0m \u001b[31m15.2 MB/s\u001b[0m eta \u001b[36m0:00:00\u001b[0m\n",
      "\u001b[?25hDownloading eth_hash-0.5.2-py3-none-any.whl (8.6 kB)\n",
      "Downloading pycryptodome-3.19.0-cp35-abi3-macosx_10_9_universal2.whl (2.4 MB)\n",
      "\u001b[2K   \u001b[90m━━━━━━━━━━━━━━━━━━━━━━━━━━━━━━━━━━━━━━━━\u001b[0m \u001b[32m2.4/2.4 MB\u001b[0m \u001b[31m10.8 MB/s\u001b[0m eta \u001b[36m0:00:00\u001b[0m00:01\u001b[0m00:01\u001b[0m\n",
      "\u001b[?25hBuilding wheels for collected packages: lru-dict, pyunormalize, parsimonious\n",
      "  Building wheel for lru-dict (setup.py) ... \u001b[?25ldone\n",
      "\u001b[?25h  Created wheel for lru-dict: filename=lru_dict-1.2.0-cp311-cp311-macosx_11_0_arm64.whl size=9140 sha256=f7bd6908304f2ca1f5b636269d4a2eb3eb7509856a743e61a83d7759634397f6\n",
      "  Stored in directory: /Users/ayanpatel/Library/Caches/pip/wheels/77/ee/6f/81f645c6ccb23c97f8998bd9709d5909b855506527c7f7c570\n",
      "  Building wheel for pyunormalize (setup.py) ... \u001b[?25ldone\n",
      "\u001b[?25h  Created wheel for pyunormalize: filename=pyunormalize-15.0.0-py3-none-any.whl size=515716 sha256=16fe47843c7386e206e7f3fb61147034f4da2ad16f65929e644e10b38b18ace7\n",
      "  Stored in directory: /Users/ayanpatel/Library/Caches/pip/wheels/84/44/2d/eac79543becb27e6c8c16afdee813b61ac36e14762fe1f00c7\n",
      "  Building wheel for parsimonious (setup.py) ... \u001b[?25ldone\n",
      "\u001b[?25h  Created wheel for parsimonious: filename=parsimonious-0.9.0-py3-none-any.whl size=44297 sha256=ff00138a06e8963f2a2f1840c6a8505804da99c64c713f4ea89d4b716891c895\n",
      "  Stored in directory: /Users/ayanpatel/Library/Caches/pip/wheels/db/16/e0/c40eca39b83917346593961de03dfc6dbb208ed07ba56afec8\n",
      "Successfully built lru-dict pyunormalize parsimonious\n",
      "Installing collected packages: lru-dict, bitarray, websockets, pyunormalize, pycryptodome, protobuf, parsimonious, hexbytes, eth-typing, eth-hash, eth-utils, rlp, eth-keys, eth-abi, eth-rlp, eth-keyfile, eth-account, web3\n",
      "Successfully installed bitarray-2.8.1 eth-abi-4.2.1 eth-account-0.9.0 eth-hash-0.5.2 eth-keyfile-0.6.1 eth-keys-0.4.0 eth-rlp-0.3.0 eth-typing-3.5.0 eth-utils-2.2.1 hexbytes-0.3.1 lru-dict-1.2.0 parsimonious-0.9.0 protobuf-4.24.3 pycryptodome-3.19.0 pyunormalize-15.0.0 rlp-3.0.0 web3-6.10.0 websockets-11.0.3\n"
     ]
    }
   ],
   "source": [
    "!pip install web3"
   ]
  },
  {
   "cell_type": "code",
   "execution_count": 47,
   "id": "1c2b8b9a",
   "metadata": {},
   "outputs": [
    {
     "name": "stdout",
     "output_type": "stream",
     "text": [
      "Requirement already satisfied: tweepy in /Users/ayanpatel/anaconda3/lib/python3.11/site-packages (4.14.0)\r\n",
      "Requirement already satisfied: oauthlib<4,>=3.2.0 in /Users/ayanpatel/anaconda3/lib/python3.11/site-packages (from tweepy) (3.2.2)\r\n",
      "Requirement already satisfied: requests<3,>=2.27.0 in /Users/ayanpatel/anaconda3/lib/python3.11/site-packages (from tweepy) (2.31.0)\r\n",
      "Requirement already satisfied: requests-oauthlib<2,>=1.2.0 in /Users/ayanpatel/anaconda3/lib/python3.11/site-packages (from tweepy) (1.3.1)\r\n",
      "Requirement already satisfied: charset-normalizer<4,>=2 in /Users/ayanpatel/anaconda3/lib/python3.11/site-packages (from requests<3,>=2.27.0->tweepy) (2.0.4)\r\n",
      "Requirement already satisfied: idna<4,>=2.5 in /Users/ayanpatel/anaconda3/lib/python3.11/site-packages (from requests<3,>=2.27.0->tweepy) (3.4)\r\n",
      "Requirement already satisfied: urllib3<3,>=1.21.1 in /Users/ayanpatel/anaconda3/lib/python3.11/site-packages (from requests<3,>=2.27.0->tweepy) (1.26.16)\r\n",
      "Requirement already satisfied: certifi>=2017.4.17 in /Users/ayanpatel/anaconda3/lib/python3.11/site-packages (from requests<3,>=2.27.0->tweepy) (2023.7.22)\r\n"
     ]
    }
   ],
   "source": [
    "!pip install tweepy"
   ]
  },
  {
   "cell_type": "code",
   "execution_count": 2,
   "id": "2db7e696",
   "metadata": {},
   "outputs": [],
   "source": [
    "import requests\n",
    "import json\n",
    "import tweepy\n",
    "from datetime import datetime, timezone\n",
    "import csv\n",
    "import pandas as pd\n",
    "import time\n",
    "from EventLogDecoder import EventLogDecoder\n",
    "from web3 import Web3, EthereumTesterProvider\n",
    "import numpy as np\n",
    "from time import perf_counter\n",
    "import asyncio\n",
    "import aiohttp\n",
    "import tweepy\n",
    "from datetime import datetime, timezone\n",
    "from tqdm import tqdm\n",
    "from tqdm.asyncio import tqdm as async_tqdm\n",
    "import time"
   ]
  },
  {
   "cell_type": "code",
   "execution_count": 3,
   "id": "299ae662",
   "metadata": {},
   "outputs": [],
   "source": [
    "def cleanJSON(response):\n",
    "    contract_abi = [{\"anonymous\":False,\"inputs\":[{\"indexed\":True,\"internalType\":\"address\",\"name\":\"previousOwner\",\"type\":\"address\"},{\"indexed\":True,\"internalType\":\"address\",\"name\":\"newOwner\",\"type\":\"address\"}],\"name\":\"OwnershipTransferred\",\"type\":\"event\"},{\"anonymous\":False,\"inputs\":[{\"indexed\":False,\"internalType\":\"address\",\"name\":\"trader\",\"type\":\"address\"},{\"indexed\":False,\"internalType\":\"address\",\"name\":\"subject\",\"type\":\"address\"},{\"indexed\":False,\"internalType\":\"bool\",\"name\":\"isBuy\",\"type\":\"bool\"},{\"indexed\":False,\"internalType\":\"uint256\",\"name\":\"shareAmount\",\"type\":\"uint256\"},{\"indexed\":False,\"internalType\":\"uint256\",\"name\":\"ethAmount\",\"type\":\"uint256\"},{\"indexed\":False,\"internalType\":\"uint256\",\"name\":\"protocolEthAmount\",\"type\":\"uint256\"},{\"indexed\":False,\"internalType\":\"uint256\",\"name\":\"subjectEthAmount\",\"type\":\"uint256\"},{\"indexed\":False,\"internalType\":\"uint256\",\"name\":\"supply\",\"type\":\"uint256\"}],\"name\":\"Trade\",\"type\":\"event\"},{\"inputs\":[{\"internalType\":\"address\",\"name\":\"sharesSubject\",\"type\":\"address\"},{\"internalType\":\"uint256\",\"name\":\"amount\",\"type\":\"uint256\"}],\"name\":\"buyShares\",\"outputs\":[],\"stateMutability\":\"payable\",\"type\":\"function\"},{\"inputs\":[{\"internalType\":\"address\",\"name\":\"sharesSubject\",\"type\":\"address\"},{\"internalType\":\"uint256\",\"name\":\"amount\",\"type\":\"uint256\"}],\"name\":\"getBuyPrice\",\"outputs\":[{\"internalType\":\"uint256\",\"name\":\"\",\"type\":\"uint256\"}],\"stateMutability\":\"view\",\"type\":\"function\"},{\"inputs\":[{\"internalType\":\"address\",\"name\":\"sharesSubject\",\"type\":\"address\"},{\"internalType\":\"uint256\",\"name\":\"amount\",\"type\":\"uint256\"}],\"name\":\"getBuyPriceAfterFee\",\"outputs\":[{\"internalType\":\"uint256\",\"name\":\"\",\"type\":\"uint256\"}],\"stateMutability\":\"view\",\"type\":\"function\"},{\"inputs\":[{\"internalType\":\"uint256\",\"name\":\"supply\",\"type\":\"uint256\"},{\"internalType\":\"uint256\",\"name\":\"amount\",\"type\":\"uint256\"}],\"name\":\"getPrice\",\"outputs\":[{\"internalType\":\"uint256\",\"name\":\"\",\"type\":\"uint256\"}],\"stateMutability\":\"pure\",\"type\":\"function\"},{\"inputs\":[{\"internalType\":\"address\",\"name\":\"sharesSubject\",\"type\":\"address\"},{\"internalType\":\"uint256\",\"name\":\"amount\",\"type\":\"uint256\"}],\"name\":\"getSellPrice\",\"outputs\":[{\"internalType\":\"uint256\",\"name\":\"\",\"type\":\"uint256\"}],\"stateMutability\":\"view\",\"type\":\"function\"},{\"inputs\":[{\"internalType\":\"address\",\"name\":\"sharesSubject\",\"type\":\"address\"},{\"internalType\":\"uint256\",\"name\":\"amount\",\"type\":\"uint256\"}],\"name\":\"getSellPriceAfterFee\",\"outputs\":[{\"internalType\":\"uint256\",\"name\":\"\",\"type\":\"uint256\"}],\"stateMutability\":\"view\",\"type\":\"function\"},{\"inputs\":[],\"name\":\"owner\",\"outputs\":[{\"internalType\":\"address\",\"name\":\"\",\"type\":\"address\"}],\"stateMutability\":\"view\",\"type\":\"function\"},{\"inputs\":[],\"name\":\"protocolFeeDestination\",\"outputs\":[{\"internalType\":\"address\",\"name\":\"\",\"type\":\"address\"}],\"stateMutability\":\"view\",\"type\":\"function\"},{\"inputs\":[],\"name\":\"protocolFeePercent\",\"outputs\":[{\"internalType\":\"uint256\",\"name\":\"\",\"type\":\"uint256\"}],\"stateMutability\":\"view\",\"type\":\"function\"},{\"inputs\":[],\"name\":\"renounceOwnership\",\"outputs\":[],\"stateMutability\":\"nonpayable\",\"type\":\"function\"},{\"inputs\":[{\"internalType\":\"address\",\"name\":\"sharesSubject\",\"type\":\"address\"},{\"internalType\":\"uint256\",\"name\":\"amount\",\"type\":\"uint256\"}],\"name\":\"sellShares\",\"outputs\":[],\"stateMutability\":\"payable\",\"type\":\"function\"},{\"inputs\":[{\"internalType\":\"address\",\"name\":\"_feeDestination\",\"type\":\"address\"}],\"name\":\"setFeeDestination\",\"outputs\":[],\"stateMutability\":\"nonpayable\",\"type\":\"function\"},{\"inputs\":[{\"internalType\":\"uint256\",\"name\":\"_feePercent\",\"type\":\"uint256\"}],\"name\":\"setProtocolFeePercent\",\"outputs\":[],\"stateMutability\":\"nonpayable\",\"type\":\"function\"},{\"inputs\":[{\"internalType\":\"uint256\",\"name\":\"_feePercent\",\"type\":\"uint256\"}],\"name\":\"setSubjectFeePercent\",\"outputs\":[],\"stateMutability\":\"nonpayable\",\"type\":\"function\"},{\"inputs\":[{\"internalType\":\"address\",\"name\":\"\",\"type\":\"address\"},{\"internalType\":\"address\",\"name\":\"\",\"type\":\"address\"}],\"name\":\"sharesBalance\",\"outputs\":[{\"internalType\":\"uint256\",\"name\":\"\",\"type\":\"uint256\"}],\"stateMutability\":\"view\",\"type\":\"function\"},{\"inputs\":[{\"internalType\":\"address\",\"name\":\"\",\"type\":\"address\"}],\"name\":\"sharesSupply\",\"outputs\":[{\"internalType\":\"uint256\",\"name\":\"\",\"type\":\"uint256\"}],\"stateMutability\":\"view\",\"type\":\"function\"},{\"inputs\":[],\"name\":\"subjectFeePercent\",\"outputs\":[{\"internalType\":\"uint256\",\"name\":\"\",\"type\":\"uint256\"}],\"stateMutability\":\"view\",\"type\":\"function\"},{\"inputs\":[{\"internalType\":\"address\",\"name\":\"newOwner\",\"type\":\"address\"}],\"name\":\"transferOwnership\",\"outputs\":[],\"stateMutability\":\"nonpayable\",\"type\":\"function\"}]\n",
    "    w3 = Web3(provider=Web3.HTTPProvider(\"https://mainnet.base.org\"))\n",
    "    contract = w3.eth.contract(address=\"0xCF205808Ed36593aa40a44F10c7f7C2F67d4A4d4\", abi=contract_abi)\n",
    "    eld = EventLogDecoder(contract)\n",
    "    \n",
    "    newList = []\n",
    "    progress_bar = tqdm(total=len(response), desc=\"Processing\")\n",
    "    for r in response:\n",
    "        out = eld.decode_log(r)\n",
    "        if(out[\"isBuy\"] == True and out[\"ethAmount\"] == 0):\n",
    "            newList.append(r)\n",
    "        progress_bar.update(1)\n",
    "    \n",
    "    progress_bar.close()\n",
    "    return newList"
   ]
  },
  {
   "cell_type": "code",
   "execution_count": 4,
   "id": "81d61861",
   "metadata": {},
   "outputs": [],
   "source": [
    "def TxToAddress(response, txHash):\n",
    "    try:\n",
    "        r = {}\n",
    "        for obj in response:\n",
    "            if(txHash in obj.values()):\n",
    "                r = obj\n",
    "\n",
    "        contract_abi = [{\"anonymous\":False,\"inputs\":[{\"indexed\":True,\"internalType\":\"address\",\"name\":\"previousOwner\",\"type\":\"address\"},{\"indexed\":True,\"internalType\":\"address\",\"name\":\"newOwner\",\"type\":\"address\"}],\"name\":\"OwnershipTransferred\",\"type\":\"event\"},{\"anonymous\":False,\"inputs\":[{\"indexed\":False,\"internalType\":\"address\",\"name\":\"trader\",\"type\":\"address\"},{\"indexed\":False,\"internalType\":\"address\",\"name\":\"subject\",\"type\":\"address\"},{\"indexed\":False,\"internalType\":\"bool\",\"name\":\"isBuy\",\"type\":\"bool\"},{\"indexed\":False,\"internalType\":\"uint256\",\"name\":\"shareAmount\",\"type\":\"uint256\"},{\"indexed\":False,\"internalType\":\"uint256\",\"name\":\"ethAmount\",\"type\":\"uint256\"},{\"indexed\":False,\"internalType\":\"uint256\",\"name\":\"protocolEthAmount\",\"type\":\"uint256\"},{\"indexed\":False,\"internalType\":\"uint256\",\"name\":\"subjectEthAmount\",\"type\":\"uint256\"},{\"indexed\":False,\"internalType\":\"uint256\",\"name\":\"supply\",\"type\":\"uint256\"}],\"name\":\"Trade\",\"type\":\"event\"},{\"inputs\":[{\"internalType\":\"address\",\"name\":\"sharesSubject\",\"type\":\"address\"},{\"internalType\":\"uint256\",\"name\":\"amount\",\"type\":\"uint256\"}],\"name\":\"buyShares\",\"outputs\":[],\"stateMutability\":\"payable\",\"type\":\"function\"},{\"inputs\":[{\"internalType\":\"address\",\"name\":\"sharesSubject\",\"type\":\"address\"},{\"internalType\":\"uint256\",\"name\":\"amount\",\"type\":\"uint256\"}],\"name\":\"getBuyPrice\",\"outputs\":[{\"internalType\":\"uint256\",\"name\":\"\",\"type\":\"uint256\"}],\"stateMutability\":\"view\",\"type\":\"function\"},{\"inputs\":[{\"internalType\":\"address\",\"name\":\"sharesSubject\",\"type\":\"address\"},{\"internalType\":\"uint256\",\"name\":\"amount\",\"type\":\"uint256\"}],\"name\":\"getBuyPriceAfterFee\",\"outputs\":[{\"internalType\":\"uint256\",\"name\":\"\",\"type\":\"uint256\"}],\"stateMutability\":\"view\",\"type\":\"function\"},{\"inputs\":[{\"internalType\":\"uint256\",\"name\":\"supply\",\"type\":\"uint256\"},{\"internalType\":\"uint256\",\"name\":\"amount\",\"type\":\"uint256\"}],\"name\":\"getPrice\",\"outputs\":[{\"internalType\":\"uint256\",\"name\":\"\",\"type\":\"uint256\"}],\"stateMutability\":\"pure\",\"type\":\"function\"},{\"inputs\":[{\"internalType\":\"address\",\"name\":\"sharesSubject\",\"type\":\"address\"},{\"internalType\":\"uint256\",\"name\":\"amount\",\"type\":\"uint256\"}],\"name\":\"getSellPrice\",\"outputs\":[{\"internalType\":\"uint256\",\"name\":\"\",\"type\":\"uint256\"}],\"stateMutability\":\"view\",\"type\":\"function\"},{\"inputs\":[{\"internalType\":\"address\",\"name\":\"sharesSubject\",\"type\":\"address\"},{\"internalType\":\"uint256\",\"name\":\"amount\",\"type\":\"uint256\"}],\"name\":\"getSellPriceAfterFee\",\"outputs\":[{\"internalType\":\"uint256\",\"name\":\"\",\"type\":\"uint256\"}],\"stateMutability\":\"view\",\"type\":\"function\"},{\"inputs\":[],\"name\":\"owner\",\"outputs\":[{\"internalType\":\"address\",\"name\":\"\",\"type\":\"address\"}],\"stateMutability\":\"view\",\"type\":\"function\"},{\"inputs\":[],\"name\":\"protocolFeeDestination\",\"outputs\":[{\"internalType\":\"address\",\"name\":\"\",\"type\":\"address\"}],\"stateMutability\":\"view\",\"type\":\"function\"},{\"inputs\":[],\"name\":\"protocolFeePercent\",\"outputs\":[{\"internalType\":\"uint256\",\"name\":\"\",\"type\":\"uint256\"}],\"stateMutability\":\"view\",\"type\":\"function\"},{\"inputs\":[],\"name\":\"renounceOwnership\",\"outputs\":[],\"stateMutability\":\"nonpayable\",\"type\":\"function\"},{\"inputs\":[{\"internalType\":\"address\",\"name\":\"sharesSubject\",\"type\":\"address\"},{\"internalType\":\"uint256\",\"name\":\"amount\",\"type\":\"uint256\"}],\"name\":\"sellShares\",\"outputs\":[],\"stateMutability\":\"payable\",\"type\":\"function\"},{\"inputs\":[{\"internalType\":\"address\",\"name\":\"_feeDestination\",\"type\":\"address\"}],\"name\":\"setFeeDestination\",\"outputs\":[],\"stateMutability\":\"nonpayable\",\"type\":\"function\"},{\"inputs\":[{\"internalType\":\"uint256\",\"name\":\"_feePercent\",\"type\":\"uint256\"}],\"name\":\"setProtocolFeePercent\",\"outputs\":[],\"stateMutability\":\"nonpayable\",\"type\":\"function\"},{\"inputs\":[{\"internalType\":\"uint256\",\"name\":\"_feePercent\",\"type\":\"uint256\"}],\"name\":\"setSubjectFeePercent\",\"outputs\":[],\"stateMutability\":\"nonpayable\",\"type\":\"function\"},{\"inputs\":[{\"internalType\":\"address\",\"name\":\"\",\"type\":\"address\"},{\"internalType\":\"address\",\"name\":\"\",\"type\":\"address\"}],\"name\":\"sharesBalance\",\"outputs\":[{\"internalType\":\"uint256\",\"name\":\"\",\"type\":\"uint256\"}],\"stateMutability\":\"view\",\"type\":\"function\"},{\"inputs\":[{\"internalType\":\"address\",\"name\":\"\",\"type\":\"address\"}],\"name\":\"sharesSupply\",\"outputs\":[{\"internalType\":\"uint256\",\"name\":\"\",\"type\":\"uint256\"}],\"stateMutability\":\"view\",\"type\":\"function\"},{\"inputs\":[],\"name\":\"subjectFeePercent\",\"outputs\":[{\"internalType\":\"uint256\",\"name\":\"\",\"type\":\"uint256\"}],\"stateMutability\":\"view\",\"type\":\"function\"},{\"inputs\":[{\"internalType\":\"address\",\"name\":\"newOwner\",\"type\":\"address\"}],\"name\":\"transferOwnership\",\"outputs\":[],\"stateMutability\":\"nonpayable\",\"type\":\"function\"}]\n",
    "        w3 = Web3(provider=Web3.HTTPProvider(\"https://mainnet.base.org\"))\n",
    "        contract = w3.eth.contract(address=\"0xCF205808Ed36593aa40a44F10c7f7C2F67d4A4d4\", abi=contract_abi)\n",
    "        eld = EventLogDecoder(contract)\n",
    "        out = eld.decode_log(r)\n",
    "        return out[\"trader\"]\n",
    "    \n",
    "    except:\n",
    "        return \"false\"\n",
    "        \n",
    "    \n",
    "    "
   ]
  },
  {
   "cell_type": "code",
   "execution_count": null,
   "id": "646fb511",
   "metadata": {},
   "outputs": [],
   "source": [
    "# def getLogs(START,END):\n",
    "#     API_KEY = \"API-KEY\"\n",
    "#     ADDRESS = \"0xCF205808Ed36593aa40a44F10c7f7C2F67d4A4d4\"\n",
    "#     START_BLOCK = START\n",
    "#     END_BLOCK = END\n",
    "#     OFFSET = \"1000\"\n",
    "#     API_URL = f\"https://api.basescan.org/api?module=logs&action=getLogs&address={ADDRESS}&fromBlock={START_BLOCK}&toBlock={END_BLOCK}&page=1&offset={OFFSET}&apikey={API_KEY}\"\n",
    "\n",
    "#     response = requests.get(API_URL)\n",
    "#     answer = response.json()[\"result\"]\n",
    "#     return answer\n",
    "\n",
    "def getLogs(START, END):\n",
    "    import requests\n",
    "    START = hex(int(START))\n",
    "    END = hex(int(END))\n",
    "    url = 'https://base-mainnet.blastapi.io/8015be79-34ab-4c28-b892-f08e8353b9aa'  \n",
    "\n",
    "    headers = {\n",
    "        'Content-Type': 'application/json',\n",
    "    }\n",
    "\n",
    "    data = {\n",
    "        \"jsonrpc\": \"2.0\",\n",
    "        \"method\": \"eth_getLogs\",\n",
    "        \"params\": [{\n",
    "            \"address\": '0xCF205808Ed36593aa40a44F10c7f7C2F67d4A4d4',\n",
    "            \"fromBlock\": START,\n",
    "            \"toBlock\": END\n",
    "        }],\n",
    "        \"id\": 0,\n",
    "    }\n",
    "\n",
    "    response = requests.post(url, headers=headers, json=data)\n",
    "#     answer = response.json()[\"result\"]\n",
    "    if response.status_code == 200:\n",
    "        answer = response.json()[\"result\"]\n",
    "        return answer\n",
    "    else:\n",
    "        return []\n"
   ]
  },
  {
   "cell_type": "code",
   "execution_count": 6,
   "id": "ab5711f8",
   "metadata": {},
   "outputs": [],
   "source": [
    "# def requestNewBuys(START, END):\n",
    "#     answer = getLogs(START, END)\n",
    "#     lastBlock = int(answer[-1][\"blockNumber\"],0)\n",
    "\n",
    "#     time.sleep(1)\n",
    "#     i = 0\n",
    "\n",
    "#     total_iterations = (int(END) - int(START))/(lastBlock - int(START))\n",
    "#     progress_bar = tqdm(total=total_iterations, desc=\"Processing\")\n",
    "    \n",
    "#     while(lastBlock < (int(END_BLOCK)-1)):\n",
    "#         res = getLogs(lastBlock,END_BLOCK)\n",
    "#         answer = answer + res\n",
    "#         lastBlock = int(answer[-1][\"blockNumber\"],0)\n",
    "#         i +=1\n",
    "#         if(i >=5):\n",
    "#             time.sleep(1)\n",
    "#             i=0\n",
    "#         progress_bar.update(1)\n",
    "    \n",
    "#     progress_bar.close()\n",
    "#     print(\"found all Blocks. Cleaning...\")\n",
    "#     newList = cleanJSON(answer)\n",
    "#     print(\"...Done\")\n",
    "#     return newList\n",
    "\n",
    "def requestNewBuys(START, END):\n",
    "#     answer = getLogs(START, END)\n",
    "#     lastBlock = int(answer[-1][\"blockNumber\"],0)\n",
    "\n",
    "    time.sleep(1)\n",
    "    i = 0\n",
    "\n",
    "    total_iterations = (int(END) - int(START))/500\n",
    "    progress_bar = tqdm(total=total_iterations, desc=\"Processing\")\n",
    "    \n",
    "    answer = []\n",
    "    lastBlock = int(START)\n",
    "    \n",
    "    while(lastBlock < (int(END_BLOCK)-1)):\n",
    "        if((int(END_BLOCK) - lastBlock) <= 500):\n",
    "            res = getLogs(str(lastBlock),END_BLOCK)\n",
    "#             print(\"getLogs(\", lastBlock, \",\",END_BLOCK,\")\")\n",
    "        else:\n",
    "            res = getLogs(str(lastBlock), str(lastBlock+500))\n",
    "#             print(\"getLogs(\", lastBlock, \",\",(lastBlock +500),\")\")\n",
    "            \n",
    "        answer = answer + res\n",
    "        lastBlock = lastBlock + 501\n",
    "        \n",
    "        i +=1\n",
    "        if(i >=5):\n",
    "            time.sleep(1)\n",
    "            i=0\n",
    "        progress_bar.update(1)\n",
    "    \n",
    "    progress_bar.close()\n",
    "    print(\"found all Blocks. Cleaning...\")\n",
    "    newList = cleanJSON(answer)\n",
    "    print(\"...Done\")\n",
    "    return newList\n",
    "    "
   ]
  },
  {
   "cell_type": "code",
   "execution_count": null,
   "id": "6df2df83",
   "metadata": {},
   "outputs": [],
   "source": []
  },
  {
   "cell_type": "code",
   "execution_count": null,
   "id": "600ac047",
   "metadata": {},
   "outputs": [],
   "source": [
    "\n",
    "max_concurrent_requests = 20  # Adjust this value according to your rate limit\n",
    "semaphore = asyncio.Semaphore(max_concurrent_requests)\n",
    "\n",
    "async def fetch_user_info(username):\n",
    "    #Setup info \n",
    "    API_KEY = \"API-KEY\"\n",
    "    API_SECRET = \"API-SECRET\"\n",
    "    BEARER_TOKEN = \"BEARER\"\n",
    "    ACCESS_TOKEN = \"ACCESS-TOKEN\"\n",
    "    ACCESS_SECRET = \"ACCESS-SECRET\"\n",
    "\n",
    "\n",
    "    auth = tweepy.OAuthHandler(API_KEY, API_SECRET)\n",
    "    auth.set_access_token(ACCESS_TOKEN, ACCESS_SECRET)\n",
    "\n",
    "    api = tweepy.API(auth)\n",
    "    \n",
    "#     try:\n",
    "#         today = datetime.now(timezone.utc)\n",
    "#         user = await asyncio.to_thread(api.get_user, screen_name=username)\n",
    "#         return (user.followers_count, user.verified, user.friends_count, user.statuses_count, user.created_at, (today - user.created_at).days)\n",
    "#     except:\n",
    "#         return (0,0,0,0,0,0)\n",
    "    \n",
    "    async with semaphore:\n",
    "        try:\n",
    "            today = datetime.now(timezone.utc)\n",
    "            user = await asyncio.to_thread(api.get_user, screen_name=username)\n",
    "            await asyncio.sleep(2)\n",
    "            return (user.followers_count, user.verified, user.friends_count, user.statuses_count, user.created_at, (today - user.created_at).days)\n",
    "        except Exception as error:          \n",
    "            if(error.response.status_code == 429):\n",
    "                print(\"Rate limit exceeded: Sleeping for 15 minutes\")\n",
    "                await asyncio.sleep(900)\n",
    "            else:\n",
    "                print(error)\n",
    "            \n",
    "            return (0,0,0,0,0,0)"
   ]
  },
  {
   "cell_type": "code",
   "execution_count": null,
   "id": "fe4d24ba",
   "metadata": {},
   "outputs": [],
   "source": [
    "def twitterUserInfo(userName):\n",
    "    time.sleep(0.7)\n",
    "    #Setup info \n",
    "    API_KEY = \"API-KEY\"\n",
    "    API_SECRET = \"API-SECRET\"\n",
    "    BEARER_TOKEN = \"BEARER\"\n",
    "    ACCESS_TOKEN = \"ACCESS-TOKEN\"\n",
    "    ACCESS_SECRET = \"ACCESS-SECRET\"\n",
    "\n",
    "\n",
    "    auth = tweepy.OAuthHandler(API_KEY, API_SECRET)\n",
    "    auth.set_access_token(ACCESS_TOKEN, ACCESS_SECRET)\n",
    "\n",
    "    api = tweepy.API(auth)\n",
    "\n",
    "    try:\n",
    "        # fetch user data\n",
    "        user = api.get_user(screen_name = userName)\n",
    "\n",
    "        # record user data\n",
    "        followers_count = user.followers_count\n",
    "        verified_status = user.verified\n",
    "        following_count = user.friends_count\n",
    "        lifetime_tweets = user.statuses_count\n",
    "        creation_date = user.created_at\n",
    "\n",
    "        today = datetime.now(timezone.utc)\n",
    "        days = (today - creation_date).days\n",
    "        \n",
    "        return (followers_count,verified_status,following_count,lifetime_tweets,creation_date,days)\n",
    "\n",
    "    except:\n",
    "        return (0,0,0,0,0,0)"
   ]
  },
  {
   "cell_type": "code",
   "execution_count": null,
   "id": "9ce4db75",
   "metadata": {},
   "outputs": [],
   "source": [
    "def getTwitterUsers(userList):\n",
    "    API_KEY = \"API-KEY\"\n",
    "    API_SECRET = \"API-SECRET\"\n",
    "    BEARER_TOKEN = \"BEARER\"\n",
    "    ACCESS_TOKEN = \"ACCESS-TOKEN\"\n",
    "    ACCESS_SECRET = \"ACCESS-SECRET\"\n",
    "    \n",
    "    auth = tweepy.OAuthHandler(API_KEY, API_SECRET)\n",
    "    auth.set_access_token(ACCESS_TOKEN, ACCESS_SECRET)\n",
    "\n",
    "    api = tweepy.API(auth)\n",
    "    \n",
    "    users = api.lookup_users(screen_name = userList)\n",
    "    \n",
    "    print(len(users))"
   ]
  },
  {
   "cell_type": "raw",
   "id": "ebd80199",
   "metadata": {},
   "source": []
  },
  {
   "cell_type": "code",
   "execution_count": 19,
   "id": "907e8966",
   "metadata": {},
   "outputs": [],
   "source": [
    "async def addressToUser(txHash, response):\n",
    "    API_URL = \"https://prod-api.kosetto.com\"\n",
    "    ADDRESS = TxToAddress(response, txHash)\n",
    "    try:\n",
    "        async with aiohttp.ClientSession() as session:\n",
    "            response = await session.get(f\"{API_URL}/users/{ADDRESS}\", ssl=False)\n",
    "            user = await response.json()\n",
    "            userName = user[\"twitterUsername\"]\n",
    "            price = round((float(user[\"displayPrice\"])/1000000000000000000),4)\n",
    "        return (userName,price)\n",
    "    except:\n",
    "        return (\"false\",0)"
   ]
  },
  {
   "cell_type": "code",
   "execution_count": 20,
   "id": "25c636d4",
   "metadata": {},
   "outputs": [],
   "source": [
    "def process_tweet_dataframe(df):\n",
    "\n",
    "    tqdm.pandas()\n",
    "\n",
    "    df[['followers', 'verified', 'following', 'lifeTimeTweets', 'creationDate', 'daysAlive']] = df['username'].progress_apply(lambda username: pd.Series(twitterUserInfo(username)))\n",
    "\n",
    "#df.progress_apply(lambda row: pd.Series(twitterUserInfo('username')), axis=1)\n",
    "\n",
    "    "
   ]
  },
  {
   "cell_type": "code",
   "execution_count": null,
   "id": "1d03591b",
   "metadata": {},
   "outputs": [],
   "source": []
  },
  {
   "cell_type": "code",
   "execution_count": 21,
   "id": "99e41ac6",
   "metadata": {},
   "outputs": [],
   "source": [
    "async def process_dataframe(df):\n",
    "    tasks = []\n",
    "\n",
    "    with async_tqdm(total=len(df), desc=\"Processing\") as pbar:\n",
    "        # Iterate through the DataFrame rows\n",
    "        for index, row in df.iterrows():\n",
    "            transaction_hash = row['transactionHash']\n",
    "\n",
    "            # Call the addressToUser function asynchronously\n",
    "            task = asyncio.ensure_future(addressToUser(transaction_hash, response))\n",
    "            tasks.append(task)\n",
    "\n",
    "        # Gather the results when all tasks are completed\n",
    "        results = await asyncio.gather(*tasks)\n",
    "        \n",
    "        for result in results:\n",
    "            pbar.update(1)\n",
    "\n",
    "#         _userName, _price, _followers, _verified, _following, _numTweets, _creation_date, _daysAlive = zip(*results)\n",
    "        _userName, _price = zip(*results)\n",
    "\n",
    "        # Add the results to a new column in the DataFrame\n",
    "        df['username'] = _userName\n",
    "        df['price'] = _price"
   ]
  },
  {
   "cell_type": "code",
   "execution_count": null,
   "id": "1ef9e5e9",
   "metadata": {},
   "outputs": [],
   "source": []
  },
  {
   "cell_type": "code",
   "execution_count": 13,
   "id": "a304371d",
   "metadata": {},
   "outputs": [
    {
     "name": "stderr",
     "output_type": "stream",
     "text": [
      "Processing: 87it [00:30,  2.90it/s]                                             \n"
     ]
    },
    {
     "name": "stdout",
     "output_type": "stream",
     "text": [
      "found all Blocks. Cleaning...\n"
     ]
    },
    {
     "name": "stderr",
     "output_type": "stream",
     "text": [
      "Processing: 100%|███████████████████████| 44773/44773 [00:05<00:00, 8261.63it/s]"
     ]
    },
    {
     "name": "stdout",
     "output_type": "stream",
     "text": [
      "...Done\n"
     ]
    },
    {
     "name": "stderr",
     "output_type": "stream",
     "text": [
      "\n"
     ]
    }
   ],
   "source": [
    "START_BLOCK = \"5874128\" \n",
    "END_BLOCK = \"5917326\"\n",
    "vals = requestNewBuys(START_BLOCK,END_BLOCK)\n",
    "# response = getLogs(\"5355729\",\"5356229\")"
   ]
  },
  {
   "cell_type": "code",
   "execution_count": null,
   "id": "f6c28e66",
   "metadata": {},
   "outputs": [],
   "source": []
  },
  {
   "cell_type": "code",
   "execution_count": 15,
   "id": "1b7de39c",
   "metadata": {},
   "outputs": [],
   "source": [
    "# df['topics'] = df['topics'].str[0]\n",
    "# df.drop_duplicates()\n",
    "df = pd.DataFrame(vals)\n",
    "fileName = './newData/Oct29.csv'\n",
    "df.to_csv(fileName, index=False)"
   ]
  },
  {
   "cell_type": "code",
   "execution_count": 16,
   "id": "51ff3830",
   "metadata": {},
   "outputs": [],
   "source": [
    "df = pd.read_csv(fileName)"
   ]
  },
  {
   "cell_type": "code",
   "execution_count": null,
   "id": "3db245c5",
   "metadata": {},
   "outputs": [],
   "source": [
    "async def main():\n",
    "    await process_dataframe(df)\n",
    "#     process_tweet_dataframe(df)\n",
    "    df.to_csv(fileName, index=False)\n",
    "\n",
    "\n",
    "start = perf_counter()\n",
    "await main()\n",
    "stop = perf_counter()\n",
    "print(\"Elapsed time:\", stop-start)"
   ]
  },
  {
   "cell_type": "markdown",
   "id": "9afd88ad",
   "metadata": {
    "scrolled": true
   },
   "source": [
    "## "
   ]
  },
  {
   "cell_type": "code",
   "execution_count": null,
   "id": "e9d3c362",
   "metadata": {},
   "outputs": [],
   "source": []
  },
  {
   "cell_type": "code",
   "execution_count": 19,
   "id": "1599c33b",
   "metadata": {},
   "outputs": [],
   "source": []
  },
  {
   "cell_type": "code",
   "execution_count": 22,
   "id": "85c382dd",
   "metadata": {},
   "outputs": [],
   "source": []
  },
  {
   "cell_type": "code",
   "execution_count": 10,
   "id": "8ef47e4e",
   "metadata": {
    "scrolled": true
   },
   "outputs": [],
   "source": []
  },
  {
   "cell_type": "code",
   "execution_count": null,
   "id": "ba1058e2",
   "metadata": {},
   "outputs": [],
   "source": []
  },
  {
   "cell_type": "code",
   "execution_count": null,
   "id": "c01d95a7",
   "metadata": {},
   "outputs": [],
   "source": []
  }
 ],
 "metadata": {
  "kernelspec": {
   "display_name": "Python 3 (ipykernel)",
   "language": "python",
   "name": "python3"
  },
  "language_info": {
   "codemirror_mode": {
    "name": "ipython",
    "version": 3
   },
   "file_extension": ".py",
   "mimetype": "text/x-python",
   "name": "python",
   "nbconvert_exporter": "python",
   "pygments_lexer": "ipython3",
   "version": "3.11.4"
  }
 },
 "nbformat": 4,
 "nbformat_minor": 5
}
